{
 "cells": [
  {
   "cell_type": "code",
   "execution_count": 1,
   "metadata": {
    "ExecuteTime": {
     "end_time": "2019-10-22T06:32:12.637214Z",
     "start_time": "2019-10-22T06:32:10.866944Z"
    },
    "collapsed": true
   },
   "outputs": [],
   "source": [
    "import tensorflow as tf"
   ]
  },
  {
   "cell_type": "markdown",
   "metadata": {},
   "source": [
    "# Tensorflow Learning\n",
    "## basic tf\n",
    "[link](https://www.bilibili.com/video/av20542427/?p=4)\n",
    "1. `tf`属性\n",
    "1. `Session() constant`属性\n",
    "1. `Variable()`属性\n",
    "\n",
    "### `tf`属性"
   ]
  },
  {
   "cell_type": "code",
   "execution_count": 2,
   "metadata": {
    "ExecuteTime": {
     "end_time": "2019-10-22T06:32:12.648179Z",
     "start_time": "2019-10-22T06:32:12.638208Z"
    },
    "scrolled": true
   },
   "outputs": [
    {
     "data": {
      "text/plain": [
       "'1.15.0'"
      ]
     },
     "execution_count": 2,
     "metadata": {},
     "output_type": "execute_result"
    }
   ],
   "source": [
    "tf.__version__"
   ]
  },
  {
   "cell_type": "code",
   "execution_count": 3,
   "metadata": {
    "ExecuteTime": {
     "end_time": "2019-10-22T06:32:12.661144Z",
     "start_time": "2019-10-22T06:32:12.649177Z"
    }
   },
   "outputs": [
    {
     "data": {
      "text/plain": [
       "\"['AUTO_REUSE', 'AggregationMethod', 'Assert', 'AttrValue', 'COMPILER_VERSION', 'CXX11_ABI_FLAG', 'ConditionalAccumulator', 'ConditionalAccumulatorBase', 'ConfigProto', 'CriticalSection', 'DType', 'DeviceSpec', 'Dimension', 'Event', 'FIFOQueue', 'FixedLenFeature', 'FixedLenSequenceFeature', 'FixedLengthRecordReader', 'GIT_VERSION', 'GPUOptions', 'GRAPH_DEF_VERSION', 'GRAPH_DEF_VERSION_MIN_CONSUMER', 'GRAPH_DEF_VERSION_MIN_PRODUCER', 'GradientTape', 'Graph', 'GraphDef', 'GraphKeys', 'GraphOptions', 'HistogramProto', 'IdentityReader', 'IndexedSlices', 'IndexedSlicesSpec', 'InteractiveSession', 'LMDBReader', 'LogMessage', 'MONOLITHIC_BUILD', 'MetaGraphDef', 'Module', 'NameAttrList', 'NoGradient', 'NodeDef', 'NotDifferentiable', 'OpError', 'Operation', 'OptimizerOptions', 'OptionalSpec', 'PaddingFIFOQueue', 'Print', 'PriorityQueue', 'QUANTIZED_DTYPES', 'QueueBase', 'RaggedTensor', 'RaggedTensorSpec', 'RandomShuffleQueue', 'ReaderBase', 'RegisterGradient', 'RunMetadata', 'RunOptions', 'Session', 'SessionLog', 'SparseConditionalAccumulator', 'SparseFeature', 'SparseTensor', 'SparseTensorSpec', 'SparseTensorValue', 'Summary', 'SummaryMetadata', 'TFRecordReader', 'Tensor', 'TensorArray', 'TensorArraySpec', 'TensorInfo', 'TensorShape', 'TensorSpec', 'TextLineReader', 'TypeSpec', 'UnconnectedGradients', 'VERSION', 'VarLenFeature', 'Variable', 'VariableAggregation', 'VariableScope', 'VariableSynchronization', 'WholeFileReader', '_LazyLoader', '__all__', '__builtins__', '__cached__', '__compiler_version__', '__cxx11_abi_flag__', '__doc__', '__file__', '__git_version__', '__loader__', '__monolithic_build__', '__name__', '__package__', '__path__', '__spec__', '__version__', '_absolute_import', '_api', '_deprecation', '_division', '_forward_module', '_importlib', '_m', '_print_function', '_root_estimator', '_sys', '_top_level_modules', '_types', 'abs', 'accumulate_n', 'acos', 'acosh', 'add', 'add_check_numerics_ops', 'add_n', 'add_to_collection', 'add_to_collections', 'all_variables', 'angle', 'app', 'arg_max', 'arg_min', 'argmax', 'argmin', 'argsort', 'as_dtype', 'as_string', 'asin', 'asinh', 'assert_equal', 'assert_greater', 'assert_greater_equal', 'assert_integer', 'assert_less', 'assert_less_equal', 'assert_near', 'assert_negative', 'assert_non_negative', 'assert_non_positive', 'assert_none_equal', 'assert_positive', 'assert_proper_iterable', 'assert_rank', 'assert_rank_at_least', 'assert_rank_in', 'assert_same_float_dtype', 'assert_scalar', 'assert_type', 'assert_variables_initialized', 'assign', 'assign_add', 'assign_sub', 'atan', 'atan2', 'atanh', 'audio', 'autograph', 'batch_gather', 'batch_scatter_update', 'batch_to_space', 'batch_to_space_nd', 'betainc', 'bfloat16', 'bincount', 'bitcast', 'bitwise', 'bool', 'boolean_mask', 'broadcast_dynamic_shape', 'broadcast_static_shape', 'broadcast_to', 'case', 'cast', 'ceil', 'check_numerics', 'cholesky', 'cholesky_solve', 'clip_by_average_norm', 'clip_by_global_norm', 'clip_by_norm', 'clip_by_value', 'colocate_with', 'compat', 'complex', 'complex128', 'complex64', 'concat', 'cond', 'config', 'confusion_matrix', 'conj', 'constant', 'constant_initializer', 'container', 'contrib', 'control_dependencies', 'control_flow_v2_enabled', 'convert_to_tensor', 'convert_to_tensor_or_indexed_slices', 'convert_to_tensor_or_sparse_tensor', 'cos', 'cosh', 'count_nonzero', 'count_up_to', 'create_partitioned_variables', 'cross', 'cumprod', 'cumsum', 'custom_gradient', 'data', 'debugging', 'decode_base64', 'decode_compressed', 'decode_csv', 'decode_json_example', 'decode_raw', 'delete_session_tensor', 'depth_to_space', 'dequantize', 'deserialize_many_sparse', 'device', 'diag', 'diag_part', 'digamma', 'dimension_at_index', 'dimension_value', 'disable_control_flow_v2', 'disable_eager_execution', 'disable_resource_variables', 'disable_tensor_equality', 'disable_v2_behavior', 'disable_v2_tensorshape', 'distribute', 'distributions', 'div', 'div_no_nan', 'divide', 'double', 'dtypes', 'dynamic_partition', 'dynamic_stitch', 'edit_distance', 'einsum', 'enable_control_flow_v2', 'enable_eager_execution', 'enable_resource_variables', 'enable_tensor_equality', 'enable_v2_behavior', 'enable_v2_tensorshape', 'encode_base64', 'ensure_shape', 'equal', 'erf', 'erfc', 'errors', 'estimator', 'executing_eagerly', 'exp', 'expand_dims', 'experimental', 'expm1', 'extract_image_patches', 'extract_volume_patches', 'eye', 'fake_quant_with_min_max_args', 'fake_quant_with_min_max_args_gradient', 'fake_quant_with_min_max_vars', 'fake_quant_with_min_max_vars_gradient', 'fake_quant_with_min_max_vars_per_channel', 'fake_quant_with_min_max_vars_per_channel_gradient', 'feature_column', 'fft', 'fft2d', 'fft3d', 'fill', 'fingerprint', 'fixed_size_partitioner', 'flags', 'float16', 'float32', 'float64', 'floor', 'floor_div', 'floordiv', 'floormod', 'foldl', 'foldr', 'function', 'gather', 'gather_nd', 'get_collection', 'get_collection_ref', 'get_default_graph', 'get_default_session', 'get_local_variable', 'get_logger', 'get_seed', 'get_session_handle', 'get_session_tensor', 'get_static_value', 'get_variable', 'get_variable_scope', 'gfile', 'global_norm', 'global_variables', 'global_variables_initializer', 'glorot_normal_initializer', 'glorot_uniform_initializer', 'grad_pass_through', 'gradients', 'graph_util', 'greater', 'greater_equal', 'group', 'guarantee_const', 'half', 'hessians', 'histogram_fixed_width', 'histogram_fixed_width_bins', 'identity', 'identity_n', 'ifft', 'ifft2d', 'ifft3d', 'igamma', 'igammac', 'imag', 'image', 'import_graph_def', 'init_scope', 'initialize_all_tables', 'initialize_all_variables', 'initialize_local_variables', 'initialize_variables', 'initializers', 'int16', 'int32', 'int64', 'int8', 'invert_permutation', 'io', 'is_finite', 'is_inf', 'is_nan', 'is_non_decreasing', 'is_numeric_tensor', 'is_strictly_increasing', 'is_tensor', 'is_variable_initialized', 'keras', 'layers', 'lbeta', 'less', 'less_equal', 'lgamma', 'lin_space', 'linalg', 'linspace', 'lite', 'load_file_system_library', 'load_library', 'load_op_library', 'local_variables', 'local_variables_initializer', 'log', 'log1p', 'log_sigmoid', 'logging', 'logical_and', 'logical_not', 'logical_or', 'logical_xor', 'lookup', 'losses', 'make_ndarray', 'make_template', 'make_tensor_proto', 'manip', 'map_fn', 'matching_files', 'math', 'matmul', 'matrix_band_part', 'matrix_determinant', 'matrix_diag', 'matrix_diag_part', 'matrix_inverse', 'matrix_set_diag', 'matrix_solve', 'matrix_solve_ls', 'matrix_square_root', 'matrix_transpose', 'matrix_triangular_solve', 'maximum', 'meshgrid', 'metrics', 'min_max_variable_partitioner', 'minimum', 'mod', 'model_variables', 'moving_average_variables', 'multinomial', 'multiply', 'name_scope', 'negative', 'nest', 'newaxis', 'nn', 'no_gradient', 'no_op', 'no_regularizer', 'nondifferentiable_batch_function', 'norm', 'not_equal', 'numpy_function', 'one_hot', 'ones', 'ones_initializer', 'ones_like', 'op_scope', 'orthogonal_initializer', 'pad', 'parallel_stack', 'parse_example', 'parse_single_example', 'parse_single_sequence_example', 'parse_tensor', 'placeholder', 'placeholder_with_default', 'polygamma', 'pow', 'print', 'profiler', 'py_func', 'py_function', 'python_io', 'pywrap_tensorflow', 'qint16', 'qint32', 'qint8', 'qr', 'quantization', 'quantize', 'quantize_v2', 'quantized_concat', 'queue', 'quint16', 'quint8', 'ragged', 'random', 'random_crop', 'random_gamma', 'random_normal', 'random_normal_initializer', 'random_poisson', 'random_shuffle', 'random_uniform', 'random_uniform_initializer', 'range', 'rank', 'raw_ops', 'read_file', 'real', 'realdiv', 'reciprocal', 'recompute_grad', 'reduce_all', 'reduce_any', 'reduce_join', 'reduce_logsumexp', 'reduce_max', 'reduce_mean', 'reduce_min', 'reduce_prod', 'reduce_sum', 'regex_replace', 'register_tensor_conversion_function', 'repeat', 'report_uninitialized_variables', 'required_space_to_batch_paddings', 'reset_default_graph', 'reshape', 'resource', 'resource_loader', 'resource_variables_enabled', 'reverse', 'reverse_sequence', 'reverse_v2', 'rint', 'roll', 'round', 'rsqrt', 'saturate_cast', 'saved_model', 'scalar_mul', 'scan', 'scatter_add', 'scatter_div', 'scatter_max', 'scatter_min', 'scatter_mul', 'scatter_nd', 'scatter_nd_add', 'scatter_nd_sub', 'scatter_nd_update', 'scatter_sub', 'scatter_update', 'searchsorted', 'segment_max', 'segment_mean', 'segment_min', 'segment_prod', 'segment_sum', 'self_adjoint_eig', 'self_adjoint_eigvals', 'sequence_mask', 'serialize_many_sparse', 'serialize_sparse', 'serialize_tensor', 'set_random_seed', 'setdiff1d', 'sets', 'shape', 'shape_n', 'sigmoid', 'sign', 'signal', 'sin', 'sinh', 'size', 'slice', 'sort', 'space_to_batch', 'space_to_batch_nd', 'space_to_depth', 'sparse', 'sparse_add', 'sparse_concat', 'sparse_fill_empty_rows', 'sparse_mask', 'sparse_matmul', 'sparse_maximum', 'sparse_merge', 'sparse_minimum', 'sparse_placeholder', 'sparse_reduce_max', 'sparse_reduce_max_sparse', 'sparse_reduce_sum', 'sparse_reduce_sum_sparse', 'sparse_reorder', 'sparse_reset_shape', 'sparse_reshape', 'sparse_retain', 'sparse_segment_mean', 'sparse_segment_sqrt_n', 'sparse_segment_sum', 'sparse_slice', 'sparse_softmax', 'sparse_split', 'sparse_tensor_dense_matmul', 'sparse_tensor_to_dense', 'sparse_to_dense', 'sparse_to_indicator', 'sparse_transpose', 'spectral', 'split', 'sqrt', 'square', 'squared_difference', 'squeeze', 'stack', 'stop_gradient', 'strided_slice', 'string', 'string_join', 'string_split', 'string_strip', 'string_to_hash_bucket', 'string_to_hash_bucket_fast', 'string_to_hash_bucket_strong', 'string_to_number', 'strings', 'substr', 'subtract', 'summary', 'svd', 'switch_case', 'sysconfig', 'tables_initializer', 'tan', 'tanh', 'tensor_scatter_add', 'tensor_scatter_nd_add', 'tensor_scatter_nd_sub', 'tensor_scatter_nd_update', 'tensor_scatter_sub', 'tensor_scatter_update', 'tensordot', 'test', 'tile', 'timestamp', 'to_bfloat16', 'to_complex128', 'to_complex64', 'to_double', 'to_float', 'to_int32', 'to_int64', 'tpu', 'trace', 'train', 'trainable_variables', 'transpose', 'truediv', 'truncated_normal', 'truncated_normal_initializer', 'truncatediv', 'truncatemod', 'tuple', 'uint16', 'uint32', 'uint64', 'uint8', 'uniform_unit_scaling_initializer', 'unique', 'unique_with_counts', 'unravel_index', 'unsorted_segment_max', 'unsorted_segment_mean', 'unsorted_segment_min', 'unsorted_segment_prod', 'unsorted_segment_sqrt_n', 'unsorted_segment_sum', 'unstack', 'user_ops', 'variable_axis_size_partitioner', 'variable_creator_scope', 'variable_op_scope', 'variable_scope', 'variables_initializer', 'variance_scaling_initializer', 'variant', 'vectorized_map', 'verify_tensor_all_finite', 'version', 'where', 'where_v2', 'while_loop', 'wrap_function', 'write_file', 'xla', 'zeros', 'zeros_initializer', 'zeros_like', 'zeta']\""
      ]
     },
     "execution_count": 3,
     "metadata": {},
     "output_type": "execute_result"
    }
   ],
   "source": [
    "str(dir(tf))"
   ]
  },
  {
   "cell_type": "markdown",
   "metadata": {},
   "source": [
    "### `Session() constant`属性"
   ]
  },
  {
   "cell_type": "code",
   "execution_count": 4,
   "metadata": {
    "ExecuteTime": {
     "end_time": "2019-10-22T06:32:12.677101Z",
     "start_time": "2019-10-22T06:32:12.662142Z"
    }
   },
   "outputs": [
    {
     "data": {
      "text/plain": [
       "<tf.Tensor 'MatMul:0' shape=(1, 1) dtype=int32>"
      ]
     },
     "execution_count": 4,
     "metadata": {},
     "output_type": "execute_result"
    }
   ],
   "source": [
    "m1 = tf.constant([[1,2,3]])\n",
    "m2 = tf.constant([[4],[5],[6]])\n",
    "product = tf.matmul(m1,m2)\n",
    "product"
   ]
  },
  {
   "cell_type": "code",
   "execution_count": 5,
   "metadata": {
    "ExecuteTime": {
     "end_time": "2019-10-22T06:32:13.020216Z",
     "start_time": "2019-10-22T06:32:12.679096Z"
    }
   },
   "outputs": [
    {
     "data": {
      "text/plain": [
       "array([[32]])"
      ]
     },
     "execution_count": 5,
     "metadata": {},
     "output_type": "execute_result"
    }
   ],
   "source": [
    "sess = tf.Session()\n",
    "result = sess.run(product)\n",
    "result"
   ]
  },
  {
   "cell_type": "code",
   "execution_count": 6,
   "metadata": {
    "ExecuteTime": {
     "end_time": "2019-10-22T06:32:13.025174Z",
     "start_time": "2019-10-22T06:32:13.021181Z"
    }
   },
   "outputs": [
    {
     "data": {
      "text/plain": [
       "\"['_Callable', '_DEAD_HANDLES_THRESHOLD', '_NODEDEF_NAME_RE', '__class__', '__del__', '__delattr__', '__dict__', '__dir__', '__doc__', '__enter__', '__eq__', '__exit__', '__format__', '__ge__', '__getattribute__', '__gt__', '__hash__', '__init__', '__init_subclass__', '__le__', '__lt__', '__module__', '__ne__', '__new__', '__reduce__', '__reduce_ex__', '__repr__', '__setattr__', '__sizeof__', '__str__', '__subclasshook__', '__weakref__', '_add_shapes', '_call_tf_sessionprun', '_call_tf_sessionrun', '_closed', '_config', '_dead_handles', '_default_graph_context_manager', '_default_session_context_manager', '_delete_lock', '_do_call', '_do_run', '_extend_graph', '_graph', '_make_callable_from_options', '_register_dead_handle', '_run', '_session', '_target', '_tf_api_names', '_tf_api_names_v1', '_update_with_movers', 'as_default', 'close', 'graph', 'graph_def', 'list_devices', 'make_callable', 'partial_run', 'partial_run_setup', 'reset', 'run', 'sess_str']\""
      ]
     },
     "execution_count": 6,
     "metadata": {},
     "output_type": "execute_result"
    }
   ],
   "source": [
    "str(dir(sess))"
   ]
  },
  {
   "cell_type": "code",
   "execution_count": 7,
   "metadata": {
    "ExecuteTime": {
     "end_time": "2019-10-22T06:32:13.037138Z",
     "start_time": "2019-10-22T06:32:13.026171Z"
    },
    "collapsed": true
   },
   "outputs": [],
   "source": [
    "sess.close()"
   ]
  },
  {
   "cell_type": "code",
   "execution_count": 8,
   "metadata": {
    "ExecuteTime": {
     "end_time": "2019-10-22T06:32:13.049107Z",
     "start_time": "2019-10-22T06:32:13.039135Z"
    }
   },
   "outputs": [
    {
     "data": {
      "text/plain": [
       "(<tf.Tensor 'Const_1:0' shape=(3, 1) dtype=int32>,\n",
       " \"['OVERLOADABLE_OPERATORS', '_USE_EQUALITY', '__abs__', '__add__', '__and__', '__array__', '__array_priority__', '__bool__', '__class__', '__copy__', '__delattr__', '__dict__', '__dir__', '__div__', '__doc__', '__eq__', '__floordiv__', '__format__', '__ge__', '__getattribute__', '__getitem__', '__gt__', '__hash__', '__init__', '__init_subclass__', '__invert__', '__iter__', '__le__', '__len__', '__lt__', '__matmul__', '__mod__', '__module__', '__mul__', '__ne__', '__neg__', '__new__', '__nonzero__', '__or__', '__pow__', '__radd__', '__rand__', '__rdiv__', '__reduce__', '__reduce_ex__', '__repr__', '__rfloordiv__', '__rmatmul__', '__rmod__', '__rmul__', '__ror__', '__rpow__', '__rsub__', '__rtruediv__', '__rxor__', '__setattr__', '__sizeof__', '__str__', '__sub__', '__subclasshook__', '__truediv__', '__weakref__', '__xor__', '_as_node_def_input', '_as_tf_output', '_c_api_shape', '_consumers', '_disallow_bool_casting', '_disallow_in_graph_mode', '_disallow_iteration', '_disallow_when_autograph_disabled', '_disallow_when_autograph_enabled', '_dtype', '_get_input_ops_without_shapes', '_id', '_name', '_op', '_override_operator', '_rank', '_shape', '_shape_as_list', '_shape_tuple', '_shape_val', '_tf_api_names', '_tf_api_names_v1', '_tf_output', '_value_index', 'consumers', 'device', 'dtype', 'eval', 'experimental_ref', 'get_shape', 'graph', 'name', 'op', 'set_shape', 'shape', 'value_index']\")"
      ]
     },
     "execution_count": 8,
     "metadata": {},
     "output_type": "execute_result"
    }
   ],
   "source": [
    "m2,str(dir(m2))"
   ]
  },
  {
   "cell_type": "markdown",
   "metadata": {},
   "source": [
    "### `Variable()`属性\n",
    "\n",
    "变量的使用\n",
    "\n",
    "1. 和mxnet一样，有广播的功能"
   ]
  },
  {
   "cell_type": "code",
   "execution_count": 9,
   "metadata": {
    "ExecuteTime": {
     "end_time": "2019-10-22T06:32:13.089000Z",
     "start_time": "2019-10-22T06:32:13.050105Z"
    }
   },
   "outputs": [
    {
     "name": "stdout",
     "output_type": "stream",
     "text": [
      "[0 1 2]\n"
     ]
    }
   ],
   "source": [
    "x = tf.Variable([4,5,6])\n",
    "a = tf.constant(4)\n",
    "init = tf.global_variables_initializer()\n",
    "sub = tf.subtract(x,a)\n",
    "with tf.Session() as sess:\n",
    "    sess.run(init)\n",
    "    print(sess.run(sub))"
   ]
  },
  {
   "cell_type": "code",
   "execution_count": 10,
   "metadata": {
    "ExecuteTime": {
     "end_time": "2019-10-22T06:32:13.094986Z",
     "start_time": "2019-10-22T06:32:13.089997Z"
    }
   },
   "outputs": [
    {
     "data": {
      "text/plain": [
       "(<tf.Variable 'Variable:0' shape=(3,) dtype=int32_ref>,\n",
       " \"['SaveSliceInfo', '_OverloadAllOperators', '_OverloadOperator', '_TensorConversionFunction', '__abs__', '__add__', '__and__', '__array_priority__', '__class__', '__delattr__', '__dict__', '__dir__', '__div__', '__doc__', '__eq__', '__floordiv__', '__format__', '__ge__', '__getattribute__', '__getitem__', '__gt__', '__hash__', '__iadd__', '__idiv__', '__imul__', '__init__', '__init_subclass__', '__invert__', '__ipow__', '__irealdiv__', '__isub__', '__iter__', '__itruediv__', '__le__', '__lt__', '__matmul__', '__mod__', '__module__', '__mul__', '__ne__', '__neg__', '__new__', '__or__', '__pow__', '__radd__', '__rand__', '__rdiv__', '__reduce__', '__reduce_ex__', '__repr__', '__rfloordiv__', '__rmatmul__', '__rmod__', '__rmul__', '__ror__', '__rpow__', '__rsub__', '__rtruediv__', '__rxor__', '__setattr__', '__sizeof__', '__str__', '__sub__', '__subclasshook__', '__truediv__', '__weakref__', '__xor__', '_add_variable_with_custom_getter', '_aggregation', '_as_graph_element', '_caching_device', '_checkpoint_dependencies', '_constraint', '_deferred_dependencies', '_distribute_strategy', '_gather_saveables_for_checkpoint', '_get_save_slice_info', '_graph_key', '_handle_deferred_dependencies', '_in_graph_mode', '_init_from_args', '_init_from_proto', '_initial_value', '_initializer_op', '_list_extra_dependencies_for_serialization', '_list_functions_for_serialization', '_lookup_dependency', '_maybe_initialize_trackable', '_name_based_attribute_restore', '_name_based_restores', '_no_dependency', '_object_identifier', '_preload_simple_restoration', '_ref', '_restore_from_checkpoint_position', '_save_slice_info', '_set_save_slice_info', '_setattr_tracking', '_shared_name', '_single_restoration_from_checkpoint_position', '_snapshot', '_strided_slice_assign', '_synchronization', '_tf_api_names', '_tf_api_names_v1', '_track_trackable', '_tracking_metadata', '_trainable', '_unconditional_checkpoint_dependencies', '_unconditional_dependency_names', '_update_uid', '_variable', 'aggregation', 'assign', 'assign_add', 'assign_sub', 'batch_scatter_update', 'constraint', 'count_up_to', 'device', 'dtype', 'eval', 'experimental_ref', 'from_proto', 'gather_nd', 'get_shape', 'graph', 'initial_value', 'initialized_value', 'initializer', 'load', 'name', 'op', 'read_value', 'scatter_add', 'scatter_div', 'scatter_max', 'scatter_min', 'scatter_mul', 'scatter_nd_add', 'scatter_nd_sub', 'scatter_nd_update', 'scatter_sub', 'scatter_update', 'set_shape', 'shape', 'sparse_read', 'synchronization', 'to_proto', 'trainable', 'value']\")"
      ]
     },
     "execution_count": 10,
     "metadata": {},
     "output_type": "execute_result"
    }
   ],
   "source": [
    "x,str(dir(x))"
   ]
  },
  {
   "cell_type": "code",
   "execution_count": 11,
   "metadata": {
    "ExecuteTime": {
     "end_time": "2019-10-22T06:32:13.105980Z",
     "start_time": "2019-10-22T06:32:13.095983Z"
    }
   },
   "outputs": [
    {
     "data": {
      "text/plain": [
       "<tf.Tensor 'Variable/read:0' shape=(3,) dtype=int32>"
      ]
     },
     "execution_count": 11,
     "metadata": {},
     "output_type": "execute_result"
    }
   ],
   "source": [
    "x.value()"
   ]
  },
  {
   "cell_type": "code",
   "execution_count": 12,
   "metadata": {
    "ExecuteTime": {
     "end_time": "2019-10-22T06:32:13.119918Z",
     "start_time": "2019-10-22T06:32:13.106953Z"
    }
   },
   "outputs": [
    {
     "data": {
      "text/plain": [
       "\"['OVERLOADABLE_OPERATORS', '_USE_EQUALITY', '__abs__', '__add__', '__and__', '__array__', '__array_priority__', '__bool__', '__class__', '__copy__', '__delattr__', '__dict__', '__dir__', '__div__', '__doc__', '__eq__', '__floordiv__', '__format__', '__ge__', '__getattribute__', '__getitem__', '__gt__', '__hash__', '__init__', '__init_subclass__', '__invert__', '__iter__', '__le__', '__len__', '__lt__', '__matmul__', '__mod__', '__module__', '__mul__', '__ne__', '__neg__', '__new__', '__nonzero__', '__or__', '__pow__', '__radd__', '__rand__', '__rdiv__', '__reduce__', '__reduce_ex__', '__repr__', '__rfloordiv__', '__rmatmul__', '__rmod__', '__rmul__', '__ror__', '__rpow__', '__rsub__', '__rtruediv__', '__rxor__', '__setattr__', '__sizeof__', '__str__', '__sub__', '__subclasshook__', '__truediv__', '__weakref__', '__xor__', '_as_node_def_input', '_as_tf_output', '_c_api_shape', '_consumers', '_disallow_bool_casting', '_disallow_in_graph_mode', '_disallow_iteration', '_disallow_when_autograph_disabled', '_disallow_when_autograph_enabled', '_dtype', '_get_input_ops_without_shapes', '_id', '_name', '_op', '_override_operator', '_rank', '_shape', '_shape_as_list', '_shape_tuple', '_shape_val', '_tf_api_names', '_tf_api_names_v1', '_tf_output', '_value_index', 'consumers', 'device', 'dtype', 'eval', 'experimental_ref', 'get_shape', 'graph', 'name', 'op', 'set_shape', 'shape', 'value_index']\""
      ]
     },
     "execution_count": 12,
     "metadata": {},
     "output_type": "execute_result"
    }
   ],
   "source": [
    "str(dir(x.value()))"
   ]
  },
  {
   "cell_type": "markdown",
   "metadata": {},
   "source": [
    "sub是一个Tensor?"
   ]
  },
  {
   "cell_type": "code",
   "execution_count": 13,
   "metadata": {
    "ExecuteTime": {
     "end_time": "2019-10-22T06:32:13.133882Z",
     "start_time": "2019-10-22T06:32:13.120915Z"
    }
   },
   "outputs": [
    {
     "data": {
      "text/plain": [
       "(<tf.Tensor 'Sub:0' shape=(3,) dtype=int32>,\n",
       " \"['OVERLOADABLE_OPERATORS', '_USE_EQUALITY', '__abs__', '__add__', '__and__', '__array__', '__array_priority__', '__bool__', '__class__', '__copy__', '__delattr__', '__dict__', '__dir__', '__div__', '__doc__', '__eq__', '__floordiv__', '__format__', '__ge__', '__getattribute__', '__getitem__', '__gt__', '__hash__', '__init__', '__init_subclass__', '__invert__', '__iter__', '__le__', '__len__', '__lt__', '__matmul__', '__mod__', '__module__', '__mul__', '__ne__', '__neg__', '__new__', '__nonzero__', '__or__', '__pow__', '__radd__', '__rand__', '__rdiv__', '__reduce__', '__reduce_ex__', '__repr__', '__rfloordiv__', '__rmatmul__', '__rmod__', '__rmul__', '__ror__', '__rpow__', '__rsub__', '__rtruediv__', '__rxor__', '__setattr__', '__sizeof__', '__str__', '__sub__', '__subclasshook__', '__truediv__', '__weakref__', '__xor__', '_as_node_def_input', '_as_tf_output', '_c_api_shape', '_consumers', '_disallow_bool_casting', '_disallow_in_graph_mode', '_disallow_iteration', '_disallow_when_autograph_disabled', '_disallow_when_autograph_enabled', '_dtype', '_get_input_ops_without_shapes', '_id', '_name', '_op', '_override_operator', '_rank', '_shape', '_shape_as_list', '_shape_tuple', '_shape_val', '_tf_api_names', '_tf_api_names_v1', '_tf_output', '_value_index', 'consumers', 'device', 'dtype', 'eval', 'experimental_ref', 'get_shape', 'graph', 'name', 'op', 'set_shape', 'shape', 'value_index']\")"
      ]
     },
     "execution_count": 13,
     "metadata": {},
     "output_type": "execute_result"
    }
   ],
   "source": [
    "sub,str(dir(sub))"
   ]
  },
  {
   "cell_type": "code",
   "execution_count": 14,
   "metadata": {
    "ExecuteTime": {
     "end_time": "2019-10-22T06:32:13.172805Z",
     "start_time": "2019-10-22T06:32:13.134880Z"
    }
   },
   "outputs": [
    {
     "name": "stdout",
     "output_type": "stream",
     "text": [
      "count initializer:\t 0\n",
      "count in 0 is 1\n",
      "count in 1 is 2\n",
      "count in 2 is 3\n",
      "count in 3 is 4\n",
      "count in 4 is 5\n"
     ]
    }
   ],
   "source": [
    "count = tf.Variable(0,name='count')\n",
    "add_count = tf.add(count,1)\n",
    "update = tf.assign(count,add_count)\n",
    "init = tf.global_variables_initializer()\n",
    "with tf.Session() as sess:\n",
    "    sess.run(init)\n",
    "    print('count initializer:\\t',sess.run(count))\n",
    "    for i in range (5):\n",
    "#         sess.run(update)\n",
    "        print('count in %d is %d' % (i,sess.run(update)))"
   ]
  },
  {
   "cell_type": "code",
   "execution_count": 15,
   "metadata": {
    "ExecuteTime": {
     "end_time": "2019-10-22T06:32:13.181752Z",
     "start_time": "2019-10-22T06:32:13.175768Z"
    }
   },
   "outputs": [
    {
     "data": {
      "text/plain": [
       "(<tf.Operation 'init_1' type=NoOp>,\n",
       " \"['_InputList', '__class__', '__delattr__', '__dict__', '__dir__', '__doc__', '__eq__', '__format__', '__ge__', '__getattribute__', '__gt__', '__hash__', '__init__', '__init_subclass__', '__le__', '__lt__', '__module__', '__ne__', '__new__', '__reduce__', '__reduce_ex__', '__repr__', '__setattr__', '__sizeof__', '__str__', '__subclasshook__', '__weakref__', '_add_control_input', '_add_control_inputs', '_add_outputs', '_add_while_inputs', '_c_op', '_clear_attr', '_colocation_code_locations', '_colocation_dict', '_control_flow_context', '_control_flow_post_processing', '_control_inputs', '_control_outputs', '_device_assignments', '_device_code_locations', '_get_attr_type', '_get_control_flow_context', '_graph', '_id', '_id_value', '_input_types', '_inputs', '_inputs_val', '_is_stateful', '_node_def', '_op_def', '_original_op', '_output_types', '_outputs', '_reconstruct_sequence_inputs', '_remove_all_control_inputs', '_set_attr', '_set_control_flow_context', '_set_device', '_set_device_from_string', '_set_func_attr', '_set_func_list_attr', '_set_shape_list_attr', '_set_type_list_attr', '_tf_api_names', '_tf_api_names_v1', '_tf_input', '_tf_output', '_traceback', '_update_input', 'colocation_groups', 'control_inputs', 'device', 'get_attr', 'graph', 'inputs', 'name', 'node_def', 'op_def', 'outputs', 'run', 'traceback', 'traceback_with_start_lines', 'type', 'values']\")"
      ]
     },
     "execution_count": 15,
     "metadata": {},
     "output_type": "execute_result"
    }
   ],
   "source": [
    "init,str(dir(init))"
   ]
  },
  {
   "cell_type": "markdown",
   "metadata": {},
   "source": [
    "### Fetch and Feed\n",
    "#### Fetch\n",
    "同时执行多种op"
   ]
  },
  {
   "cell_type": "code",
   "execution_count": 16,
   "metadata": {
    "ExecuteTime": {
     "end_time": "2019-10-22T06:32:13.215663Z",
     "start_time": "2019-10-22T06:32:13.182750Z"
    }
   },
   "outputs": [
    {
     "name": "stdout",
     "output_type": "stream",
     "text": [
      "1: [3.0, 9.0]\n",
      "2: [9.0, 3.0]\n"
     ]
    }
   ],
   "source": [
    "i1 = tf.constant(1.0)\n",
    "i2 = tf.constant(2.0)\n",
    "i3 = tf.constant(3.0)\n",
    "\n",
    "add = tf.add(i1,i2)\n",
    "mul = tf.multiply(add,i3)\n",
    "\n",
    "with tf.Session() as sess:\n",
    "    print('1:',sess.run([add,mul]))#fetch\n",
    "    print('2:',sess.run([mul,add]))"
   ]
  },
  {
   "cell_type": "markdown",
   "metadata": {},
   "source": [
    "#### Feed"
   ]
  },
  {
   "cell_type": "code",
   "execution_count": 17,
   "metadata": {
    "ExecuteTime": {
     "end_time": "2019-10-22T06:32:13.245581Z",
     "start_time": "2019-10-22T06:32:13.216660Z"
    }
   },
   "outputs": [
    {
     "name": "stdout",
     "output_type": "stream",
     "text": [
      "[12.]\n"
     ]
    }
   ],
   "source": [
    "i1 = tf.placeholder(tf.float32,name = 'i1')\n",
    "i2 = tf.placeholder(tf.float32,name = 'i2')\n",
    "# output = tf.multiply(i1,i2)\n",
    "output = i1 * i2\n",
    "with tf.Session() as sess:\n",
    "    print(sess.run(output,feed_dict={i1:[3.],i2:[4.]}))"
   ]
  },
  {
   "cell_type": "markdown",
   "metadata": {},
   "source": [
    "### `loss optimizer train`属性\n",
    "想看到Variable的值，需要sess.run() =、="
   ]
  },
  {
   "cell_type": "code",
   "execution_count": 18,
   "metadata": {
    "ExecuteTime": {
     "end_time": "2019-10-22T06:32:13.344346Z",
     "start_time": "2019-10-22T06:32:13.246578Z"
    }
   },
   "outputs": [
    {
     "name": "stdout",
     "output_type": "stream",
     "text": [
      "20  ->  [0.12713927, 0.28570533]\n",
      "40  ->  [0.11621888, 0.29145744]\n",
      "60  ->  [0.10969262, 0.29489487]\n",
      "80  ->  [0.10579245, 0.2969491]\n",
      "100  ->  [0.10346164, 0.29817674]\n"
     ]
    }
   ],
   "source": [
    "import numpy as np\n",
    "\n",
    "x_data = np.random.rand(100)\n",
    "y_data = x_data * 0.1 + 0.3\n",
    "\n",
    "b = tf.Variable(0.)\n",
    "k = tf.Variable(0.)\n",
    "y = k * x_data + b\n",
    "\n",
    "loss = tf.reduce_mean(tf.square(y_data - y))\n",
    "\n",
    "optimizer = tf.train.GradientDescentOptimizer(learning_rate=0.2)\n",
    "\n",
    "train = optimizer.minimize(loss)\n",
    "\n",
    "init = tf.global_variables_initializer()\n",
    "\n",
    "with tf.Session() as sess:\n",
    "    sess.run(init)\n",
    "    for i in range(1,101):\n",
    "        sess.run(train) ## return None\n",
    "        if i % 20 == 0:\n",
    "            print(i,' -> ',sess.run([k,b]))"
   ]
  },
  {
   "cell_type": "code",
   "execution_count": 19,
   "metadata": {
    "ExecuteTime": {
     "end_time": "2019-10-22T06:32:13.350331Z",
     "start_time": "2019-10-22T06:32:13.345316Z"
    }
   },
   "outputs": [
    {
     "data": {
      "text/plain": [
       "(<tf.Tensor 'Mean:0' shape=() dtype=float32>,\n",
       " \"['OVERLOADABLE_OPERATORS', '_USE_EQUALITY', '__abs__', '__add__', '__and__', '__array__', '__array_priority__', '__bool__', '__class__', '__copy__', '__delattr__', '__dict__', '__dir__', '__div__', '__doc__', '__eq__', '__floordiv__', '__format__', '__ge__', '__getattribute__', '__getitem__', '__gt__', '__hash__', '__init__', '__init_subclass__', '__invert__', '__iter__', '__le__', '__len__', '__lt__', '__matmul__', '__mod__', '__module__', '__mul__', '__ne__', '__neg__', '__new__', '__nonzero__', '__or__', '__pow__', '__radd__', '__rand__', '__rdiv__', '__reduce__', '__reduce_ex__', '__repr__', '__rfloordiv__', '__rmatmul__', '__rmod__', '__rmul__', '__ror__', '__rpow__', '__rsub__', '__rtruediv__', '__rxor__', '__setattr__', '__sizeof__', '__str__', '__sub__', '__subclasshook__', '__truediv__', '__weakref__', '__xor__', '_as_node_def_input', '_as_tf_output', '_c_api_shape', '_consumers', '_disallow_bool_casting', '_disallow_in_graph_mode', '_disallow_iteration', '_disallow_when_autograph_disabled', '_disallow_when_autograph_enabled', '_dtype', '_get_input_ops_without_shapes', '_id', '_name', '_op', '_override_operator', '_rank', '_shape', '_shape_as_list', '_shape_tuple', '_shape_val', '_tf_api_names', '_tf_api_names_v1', '_tf_output', '_value_index', 'consumers', 'device', 'dtype', 'eval', 'experimental_ref', 'get_shape', 'graph', 'name', 'op', 'set_shape', 'shape', 'value_index']\")"
      ]
     },
     "execution_count": 19,
     "metadata": {},
     "output_type": "execute_result"
    }
   ],
   "source": [
    "loss,str(dir(loss))"
   ]
  },
  {
   "cell_type": "code",
   "execution_count": 20,
   "metadata": {
    "ExecuteTime": {
     "end_time": "2019-10-22T06:32:13.362269Z",
     "start_time": "2019-10-22T06:32:13.351300Z"
    }
   },
   "outputs": [
    {
     "data": {
      "text/plain": [
       "(<tensorflow.python.training.gradient_descent.GradientDescentOptimizer at 0x25147712710>,\n",
       " \"['GATE_GRAPH', 'GATE_NONE', 'GATE_OP', '__class__', '__delattr__', '__dict__', '__dir__', '__doc__', '__eq__', '__format__', '__ge__', '__getattribute__', '__gt__', '__hash__', '__init__', '__init_subclass__', '__le__', '__lt__', '__module__', '__ne__', '__new__', '__reduce__', '__reduce_ex__', '__repr__', '__setattr__', '__sizeof__', '__str__', '__subclasshook__', '__weakref__', '_add_variable_with_custom_getter', '_apply_dense', '_apply_sparse', '_apply_sparse_duplicate_indices', '_assert_valid_dtypes', '_call_if_callable', '_checkpoint_dependencies', '_create_non_slot_variable', '_create_or_restore_slot_variable', '_create_slots', '_deferred_dependencies', '_deferred_slot_restorations', '_distributed_apply', '_finish', '_gather_saveables_for_checkpoint', '_get_non_slot_variable', '_get_or_make_slot', '_get_or_make_slot_with_initializer', '_handle_deferred_dependencies', '_learning_rate', '_learning_rate_tensor', '_list_extra_dependencies_for_serialization', '_list_functions_for_serialization', '_lookup_dependency', '_maybe_initialize_trackable', '_name', '_name_based_attribute_restore', '_name_based_restores', '_no_dependency', '_non_slot_dict', '_non_slot_variables', '_object_identifier', '_preload_simple_restoration', '_prepare', '_resource_apply_dense', '_resource_apply_sparse', '_resource_apply_sparse_duplicate_indices', '_restore_from_checkpoint_position', '_restore_slot_variable', '_scale_loss', '_setattr_tracking', '_single_restoration_from_checkpoint_position', '_slot_dict', '_slots', '_tf_api_names', '_tf_api_names_v1', '_track_trackable', '_tracking_metadata', '_unconditional_checkpoint_dependencies', '_unconditional_dependency_names', '_update_uid', '_use_locking', '_valid_dtypes', '_zeros_slot', 'apply_gradients', 'compute_gradients', 'get_name', 'get_slot', 'get_slot_names', 'minimize', 'variables']\")"
      ]
     },
     "execution_count": 20,
     "metadata": {},
     "output_type": "execute_result"
    }
   ],
   "source": [
    "optimizer,str(dir(optimizer))"
   ]
  },
  {
   "cell_type": "code",
   "execution_count": 21,
   "metadata": {
    "ExecuteTime": {
     "end_time": "2019-10-22T06:32:13.375234Z",
     "start_time": "2019-10-22T06:32:13.364265Z"
    }
   },
   "outputs": [
    {
     "data": {
      "text/plain": [
       "(<tf.Operation 'GradientDescent' type=NoOp>,\n",
       " \"['_InputList', '__class__', '__delattr__', '__dict__', '__dir__', '__doc__', '__eq__', '__format__', '__ge__', '__getattribute__', '__gt__', '__hash__', '__init__', '__init_subclass__', '__le__', '__lt__', '__module__', '__ne__', '__new__', '__reduce__', '__reduce_ex__', '__repr__', '__setattr__', '__sizeof__', '__str__', '__subclasshook__', '__weakref__', '_add_control_input', '_add_control_inputs', '_add_outputs', '_add_while_inputs', '_c_op', '_clear_attr', '_colocation_code_locations', '_colocation_dict', '_control_flow_context', '_control_flow_post_processing', '_control_inputs', '_control_outputs', '_device_assignments', '_device_code_locations', '_get_attr_type', '_get_control_flow_context', '_graph', '_id', '_id_value', '_input_types', '_inputs', '_inputs_val', '_is_stateful', '_node_def', '_op_def', '_original_op', '_output_types', '_outputs', '_reconstruct_sequence_inputs', '_remove_all_control_inputs', '_set_attr', '_set_control_flow_context', '_set_device', '_set_device_from_string', '_set_func_attr', '_set_func_list_attr', '_set_shape_list_attr', '_set_type_list_attr', '_tf_api_names', '_tf_api_names_v1', '_tf_input', '_tf_output', '_traceback', '_update_input', 'colocation_groups', 'control_inputs', 'device', 'get_attr', 'graph', 'inputs', 'name', 'node_def', 'op_def', 'outputs', 'run', 'traceback', 'traceback_with_start_lines', 'type', 'values']\")"
      ]
     },
     "execution_count": 21,
     "metadata": {},
     "output_type": "execute_result"
    }
   ],
   "source": [
    "train,str(dir(train))"
   ]
  },
  {
   "cell_type": "markdown",
   "metadata": {},
   "source": [
    "### regresion \n",
    "`np.newaxis`有点意思哦"
   ]
  },
  {
   "cell_type": "code",
   "execution_count": 22,
   "metadata": {
    "ExecuteTime": {
     "end_time": "2019-10-22T06:32:14.796524Z",
     "start_time": "2019-10-22T06:32:13.376233Z"
    }
   },
   "outputs": [],
   "source": [
    "from matplotlib import pyplot as plt"
   ]
  },
  {
   "cell_type": "code",
   "execution_count": 23,
   "metadata": {
    "ExecuteTime": {
     "end_time": "2019-10-22T06:32:14.803414Z",
     "start_time": "2019-10-22T06:32:14.797431Z"
    }
   },
   "outputs": [
    {
     "data": {
      "text/plain": [
       "(200,)"
      ]
     },
     "execution_count": 23,
     "metadata": {},
     "output_type": "execute_result"
    }
   ],
   "source": [
    "x_data = np.linspace(-0.5,0.5,200)\n",
    "x_data.shape"
   ]
  },
  {
   "cell_type": "code",
   "execution_count": 24,
   "metadata": {
    "ExecuteTime": {
     "end_time": "2019-10-22T06:32:14.815382Z",
     "start_time": "2019-10-22T06:32:14.804411Z"
    }
   },
   "outputs": [
    {
     "data": {
      "text/plain": [
       "(200, 1)"
      ]
     },
     "execution_count": 24,
     "metadata": {},
     "output_type": "execute_result"
    }
   ],
   "source": [
    "x_data = x_data[:,np.newaxis]\n",
    "x_data.shape"
   ]
  },
  {
   "cell_type": "code",
   "execution_count": 25,
   "metadata": {
    "ExecuteTime": {
     "end_time": "2019-10-22T06:32:15.726943Z",
     "start_time": "2019-10-22T06:32:14.816380Z"
    },
    "scrolled": true
   },
   "outputs": [
    {
     "name": "stdout",
     "output_type": "stream",
     "text": [
      "200  ->  0.003025523\n",
      "400  ->  0.001404107\n",
      "600  ->  0.0007437353\n",
      "800  ->  0.00050090713\n",
      "1000  ->  0.00041820627\n",
      "1200  ->  0.00039127056\n",
      "1400  ->  0.0003826194\n",
      "1600  ->  0.00037976325\n",
      "1800  ->  0.00037871714\n",
      "2000  ->  0.0003782377\n"
     ]
    }
   ],
   "source": [
    "noise = np.random.normal(0,0.02,x_data.shape)\n",
    "y_data = np.square(x_data) + noise\n",
    "\n",
    "x = tf.placeholder(tf.float32,shape=[None,1])\n",
    "y = tf.placeholder(tf.float32,shape=[None,1])\n",
    "\n",
    "W1 = tf.Variable(tf.random_normal(shape = [1,10]))\n",
    "b1 = tf.Variable(tf.zeros([1,10]))\n",
    "\n",
    "# plus1 = x * W1 + b1\n",
    "plus1 = tf.matmul(x,W1) + b1\n",
    "output1 = tf.nn.tanh(plus1)\n",
    "\n",
    "W2 = tf.Variable(tf.random_normal(shape=[10,1]))\n",
    "b2 = tf.Variable(tf.zeros([1,1]))\n",
    "\n",
    "# plus2 = output1 * W2 + b2\n",
    "plus2 = tf.matmul(output1,W2) + b2\n",
    "output2 = tf.nn.tanh(plus2)\n",
    "\n",
    "# temp = tf.square(y - output2)\n",
    "loss = tf.reduce_mean(tf.square(output2 - y))\n",
    "\n",
    "optimizer = tf.train.GradientDescentOptimizer(0.1)\n",
    "\n",
    "train = optimizer.minimize(loss)\n",
    "\n",
    "init = tf.global_variables_initializer()\n",
    "\n",
    "with tf.Session() as sess:\n",
    "    sess.run(init)\n",
    "    for i in range (1,2001):\n",
    "        sess.run(train,feed_dict={x:x_data,y:y_data})\n",
    "        if i % 200 == 0:\n",
    "            print(i,' -> ',sess.run(loss,feed_dict={x:x_data,y:y_data}))\n",
    "    y_hat = sess.run(output2,feed_dict={x:x_data})"
   ]
  },
  {
   "cell_type": "code",
   "execution_count": 26,
   "metadata": {
    "ExecuteTime": {
     "end_time": "2019-10-22T06:32:15.867596Z",
     "start_time": "2019-10-22T06:32:15.727940Z"
    },
    "scrolled": true
   },
   "outputs": [
    {
     "data": {
      "image/png": "[encoded data removed]",
      "text/plain": [
       "<Figure size 432x288 with 1 Axes>"
      ]
     },
     "metadata": {},
     "output_type": "display_data"
    }
   ],
   "source": [
    "plt.figure()\n",
    "plt.scatter(x_data,y_data)\n",
    "plt.plot(x_data,y_hat,'r-',lw=5)\n",
    "plt.show()"
   ]
  },
  {
   "cell_type": "markdown",
   "metadata": {},
   "source": [
    "### classification"
   ]
  },
  {
   "cell_type": "code",
   "execution_count": 27,
   "metadata": {
    "ExecuteTime": {
     "end_time": "2019-10-22T06:32:16.558748Z",
     "start_time": "2019-10-22T06:32:15.868565Z"
    },
    "collapsed": true
   },
   "outputs": [],
   "source": [
    "from tensorflow.examples.tutorials.mnist import input_data"
   ]
  },
  {
   "cell_type": "code",
   "execution_count": 28,
   "metadata": {
    "ExecuteTime": {
     "end_time": "2019-10-22T06:32:16.564702Z",
     "start_time": "2019-10-22T06:32:16.559716Z"
    }
   },
   "outputs": [
    {
     "data": {
      "text/plain": [
       "(<module 'tensorflow.examples.tutorials.mnist.input_data' from 'C:\\\\Users\\\\huangyue\\\\Anaconda3\\\\envs\\\\tf\\\\lib\\\\site-packages\\\\tensorflow_core\\\\examples\\\\tutorials\\\\mnist\\\\input_data.py'>,\n",
       " \"['__builtins__', '__cached__', '__doc__', '__file__', '__loader__', '__name__', '__package__', '__spec__', 'absolute_import', 'division', 'gzip', 'numpy', 'os', 'print_function', 'read_data_sets', 'tempfile', 'tf', 'urllib', 'xrange']\")"
      ]
     },
     "execution_count": 28,
     "metadata": {},
     "output_type": "execute_result"
    }
   ],
   "source": [
    "input_data,str(dir(input_data))"
   ]
  },
  {
   "cell_type": "code",
   "execution_count": 29,
   "metadata": {
    "ExecuteTime": {
     "end_time": "2019-10-22T06:32:16.575702Z",
     "start_time": "2019-10-22T06:32:16.566696Z"
    }
   },
   "outputs": [],
   "source": [
    "mnist = tf.keras.datasets.mnist"
   ]
  },
  {
   "cell_type": "code",
   "execution_count": null,
   "metadata": {
    "collapsed": true
   },
   "outputs": [],
   "source": []
  }
 ],
 "metadata": {
  "kernelspec": {
   "display_name": "tf1.15_py36",
   "language": "python",
   "name": "tf1.15_py36"
  },
  "language_info": {
   "codemirror_mode": {
    "name": "ipython",
    "version": 3
   },
   "file_extension": ".py",
   "mimetype": "text/x-python",
   "name": "python",
   "nbconvert_exporter": "python",
   "pygments_lexer": "ipython3",
   "version": "3.6.2"
  },
  "toc": {
   "base_numbering": 1,
   "nav_menu": {},
   "number_sections": true,
   "sideBar": true,
   "skip_h1_title": false,
   "title_cell": "Table of Contents",
   "title_sidebar": "Contents",
   "toc_cell": false,
   "toc_position": {},
   "toc_section_display": true,
   "toc_window_display": true
  }
 },
 "nbformat": 4,
 "nbformat_minor": 2
}
