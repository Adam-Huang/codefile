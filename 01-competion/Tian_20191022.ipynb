{
 "cells": [
  {
   "cell_type": "markdown",
   "metadata": {},
   "source": [
    "**“数字人体”视觉挑战赛-宫颈癌风险智能诊断**\n",
    "\n",
    "**注：此note应与OneNote和Server上的jupyter notebook一起使用**\n",
    "\n",
    "# 整体思路\n",
    "1. 2019年10月23日：\n",
    "先用CNN加Apooling的方法进行二分类，然后遍历全图，找到关键部分。\n",
    "\n",
    "Q：可以借鉴之前的比赛，将问题区域掩盖？\n",
    "\n",
    "A：不可以。官方有话：“特别注明：阳性图片ROI区域之外不保证没有异常鳞状上皮细胞”\n"
   ]
  },
  {
   "cell_type": "markdown",
   "metadata": {},
   "source": [
    "# 数据准备\n",
    "服务器上下载test数据集、neg数据集，本地以及下载安装pos样本数据集\n",
    "避免影响[wget限速下载方法](https://www.cnblogs.com/xzlive/p/9584500.html)\n",
    "> 限速下载，只需要添加–limit-rate=300k合理参数即可\n",
    "wget -c --limit-rate=300k http://mirrors.163.com/ubuntu-releases/9.10/ubuntu-9.10-desktop-amd64.iso \n",
    "\n",
    "\n",
    "\n",
    "## 正样本统计\n",
    "![](./Tian_20191022/w&h_percent.png)\n",
    "可以看出80%以上的样本，宽高是小于200的，这个宽度不宜选的太大，不然小样本不容易找到他的bounding box\n",
    "\n",
    "无论如何先把模型搭建好，具体的参数都是可以修改的！"
   ]
  },
  {
   "cell_type": "markdown",
   "metadata": {
    "ExecuteTime": {
     "end_time": "2019-10-23T07:07:02.390832Z",
     "start_time": "2019-10-23T07:07:02.379860Z"
    }
   },
   "source": [
    "## 样本增强\n",
    "### 正样本\n",
    "经过分析，采用crop的方式增强，因为conv_size的宽高是确定的，因此只需要确定满足条件的(x,y)点即可。\n",
    "![](./Tian_20191022/iou.jpg)\n",
    "而通过分析可知，只要确定左上角和右下角的坐标就可以确定满足条件的区域\n",
    "\n",
    "具体可以分为以下三种情况：\n",
    "1. region远小于conv_size，此时IOU最大也不满足，此时需要全部包含region\n",
    "1. 最大IOU满足条件，需要找到左上和右下满足条件的IOU临界值，在临界值内画区域\n",
    "1. region远大于conv_size，此时也不应过多的包含region外的区域，就在region内部找实际区域"
   ]
  },
  {
   "cell_type": "markdown",
   "metadata": {},
   "source": [
    "1. (x-(conv_s - w),y - (conv_s - h),x,y\n",
    "1. 假设w_hat是我们要求的共有面积的宽，临界值一定出现在宽高相等的地方，因此$h = w = w_{hat}$\n",
    "且有：$$w_{hat}^2 = (conv_s^2 + regionarea - w_{hat}^2) * rate_{iou}$$\n",
    "$$w_{hat}^2 = \\frac{rate_{iou}}{1 + rate_{iou}} \\times  (conv_s^2 + regionarea)$$\n",
    "$$w_{hat} = \\sqrt{\\frac{rate_{iou}}{1 + rate_{iou}} \\times  (conv_s^2 + regionarea)}$$\n",
    "因此，crop坐标为：\n",
    "(x-(conv_s - w_{hat}),y - (conv_s - w_{hat}),...\n",
    "\n",
    "2019年10月23日：\n",
    "不行太复杂了，还是随机crop先，目前方案是确保conv_size框的中心点在region区域内即可"
   ]
  },
  {
   "cell_type": "markdown",
   "metadata": {
    "collapsed": true
   },
   "source": [
    "### 负样本\n",
    "\n",
    "S：了解下有没有不解压zip并读取的方法，好像并没有[参考](http://localhost:8888/notebooks/python%20learn/sys%26os%26zip.ipynb)\n",
    "\n",
    "**1. 负样本数量**\n",
    "\n",
    "正样本总数大概160000个，第一阶段扩充之后应该只会有64W个，所以对于300张负样本，每张随机采样2200张图片。这样比较better\n",
    "\n",
    "**2. 负样本方法**\n",
    "\n",
    "训练的时候直接从数据库离读吧，写到硬盘里也没啥意思"
   ]
  },
  {
   "cell_type": "markdown",
   "metadata": {},
   "source": [
    "# 模型搭建\n",
    "2019年10月24日：先用resnet试试\n",
    "\n",
    "**框架**\n",
    "\n",
    "用哪个框架呢，好像现在都有现成的预训练模型了，用`fine-tuning`改进一下试试用先\n",
    "\n",
    "就mxnet吧，毕竟比较系统的学过"
   ]
  },
  {
   "cell_type": "code",
   "execution_count": null,
   "metadata": {
    "collapsed": true
   },
   "outputs": [],
   "source": []
  }
 ],
 "metadata": {
  "kernelspec": {
   "display_name": "Python 3",
   "language": "python",
   "name": "python3"
  },
  "language_info": {
   "codemirror_mode": {
    "name": "ipython",
    "version": 3
   },
   "file_extension": ".py",
   "mimetype": "text/x-python",
   "name": "python",
   "nbconvert_exporter": "python",
   "pygments_lexer": "ipython3",
   "version": "3.6.2"
  },
  "toc": {
   "base_numbering": 1,
   "nav_menu": {},
   "number_sections": true,
   "sideBar": true,
   "skip_h1_title": false,
   "title_cell": "Table of Contents",
   "title_sidebar": "Contents",
   "toc_cell": false,
   "toc_position": {},
   "toc_section_display": true,
   "toc_window_display": true
  }
 },
 "nbformat": 4,
 "nbformat_minor": 2
}
