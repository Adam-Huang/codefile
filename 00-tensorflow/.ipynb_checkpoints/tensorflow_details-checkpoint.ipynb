{
 "cells": [
  {
   "cell_type": "code",
   "execution_count": 1,
   "metadata": {
    "ExecuteTime": {
     "end_time": "2019-10-21T07:41:10.608299Z",
     "start_time": "2019-10-21T07:41:08.371245Z"
    },
    "collapsed": true
   },
   "outputs": [],
   "source": [
    "import tensorflow as tf"
   ]
  },
  {
   "cell_type": "markdown",
   "metadata": {
    "collapsed": true
   },
   "source": [
    "tensorflow使用细节\n",
    "# `tf.newaxis`使用"
   ]
  },
  {
   "cell_type": "code",
   "execution_count": 2,
   "metadata": {
    "ExecuteTime": {
     "end_time": "2019-10-21T07:41:14.743326Z",
     "start_time": "2019-10-21T07:41:14.739336Z"
    },
    "collapsed": true
   },
   "outputs": [],
   "source": [
    "import numpy as np"
   ]
  },
  {
   "cell_type": "code",
   "execution_count": 3,
   "metadata": {},
   "outputs": [
    {
     "data": {
      "text/plain": [
       "array([1, 2, 3])"
      ]
     },
     "execution_count": 3,
     "metadata": {},
     "output_type": "execute_result"
    }
   ],
   "source": [
    "a = np.array([1,2,3])\n",
    "a"
   ]
  },
  {
   "cell_type": "code",
   "execution_count": 4,
   "metadata": {},
   "outputs": [
    {
     "data": {
      "text/plain": [
       "array([[1],\n",
       "       [2],\n",
       "       [3]])"
      ]
     },
     "execution_count": 4,
     "metadata": {},
     "output_type": "execute_result"
    }
   ],
   "source": [
    "a[:,tf.newaxis]"
   ]
  },
  {
   "cell_type": "code",
   "execution_count": 6,
   "metadata": {},
   "outputs": [
    {
     "data": {
      "text/plain": [
       "array([[1],\n",
       "       [2],\n",
       "       [3]])"
      ]
     },
     "execution_count": 6,
     "metadata": {},
     "output_type": "execute_result"
    }
   ],
   "source": [
    "a[...,tf.newaxis]"
   ]
  },
  {
   "cell_type": "markdown",
   "metadata": {
    "collapsed": true
   },
   "source": [
    "# `TensorSliceDataset.shuffle`\n",
    "\n",
    "2019年10月21日：目前`buffer_size`参数影响不明，但是一定要有"
   ]
  },
  {
   "cell_type": "code",
   "execution_count": 13,
   "metadata": {
    "ExecuteTime": {
     "end_time": "2019-10-21T07:51:34.933869Z",
     "start_time": "2019-10-21T07:51:34.925891Z"
    }
   },
   "outputs": [
    {
     "data": {
      "text/plain": [
       "((100, 1), (100, 1))"
      ]
     },
     "execution_count": 13,
     "metadata": {},
     "output_type": "execute_result"
    }
   ],
   "source": [
    "a = np.array(range(100))[:,tf.newaxis]\n",
    "b = np.array(range(0,200,2))[:,tf.newaxis]\n",
    "\n",
    "t = tf.data.Dataset.from_tensor_slices((a,b))\n",
    "a.shape,b.shape"
   ]
  },
  {
   "cell_type": "code",
   "execution_count": 18,
   "metadata": {
    "ExecuteTime": {
     "end_time": "2019-10-21T07:52:41.181981Z",
     "start_time": "2019-10-21T07:52:41.176994Z"
    }
   },
   "outputs": [
    {
     "data": {
      "text/plain": [
       "(<ShuffleDataset shapes: ((1,), (1,)), types: (tf.int32, tf.int32)>,\n",
       " \"['_GeneratorState', '__abstractmethods__', '__class__', '__delattr__', '__dict__', '__dir__', '__doc__', '__eq__', '__format__', '__ge__', '__getattribute__', '__gt__', '__hash__', '__init__', '__init_subclass__', '__iter__', '__le__', '__lt__', '__module__', '__ne__', '__new__', '__reduce__', '__reduce_ex__', '__repr__', '__setattr__', '__sizeof__', '__str__', '__subclasshook__', '__weakref__', '_abc_cache', '_abc_negative_cache', '_abc_negative_cache_version', '_abc_registry', '_add_variable_with_custom_getter', '_apply_options', '_as_serialized_graph', '_buffer_size', '_checkpoint_dependencies', '_component_metadata', '_consumers', '_deferred_dependencies', '_flat_shapes', '_flat_structure', '_flat_types', '_from_components', '_functions', '_gather_saveables_for_checkpoint', '_graph', '_graph_attr', '_handle_deferred_dependencies', '_has_captured_ref', '_input_dataset', '_inputs', '_is_graph_tensor', '_list_extra_dependencies_for_serialization', '_list_functions_for_serialization', '_lookup_dependency', '_maybe_initialize_trackable', '_name_based_attribute_restore', '_name_based_restores', '_no_dependency', '_object_identifier', '_preload_simple_restoration', '_reshuffle_each_iteration', '_restore_from_checkpoint_position', '_seed', '_seed2', '_seed_generator', '_self_name_based_restores', '_self_setattr_tracking', '_self_unconditional_checkpoint_dependencies', '_self_unconditional_deferred_dependencies', '_self_unconditional_dependency_names', '_self_update_uid', '_setattr_tracking', '_shape_invariant_to_type_spec', '_single_restoration_from_checkpoint_position', '_tf_api_names', '_tf_api_names_v1', '_to_components', '_trace_variant_creation', '_track_trackable', '_tracking_metadata', '_type_spec', '_unconditional_checkpoint_dependencies', '_unconditional_dependency_names', '_update_uid', '_variant_tensor', '_variant_tensor_attr', '_variant_tracker', 'apply', 'batch', 'cache', 'concatenate', 'element_spec', 'enumerate', 'filter', 'flat_map', 'from_generator', 'from_tensor_slices', 'from_tensors', 'interleave', 'list_files', 'map', 'options', 'padded_batch', 'prefetch', 'range', 'reduce', 'repeat', 'shard', 'shuffle', 'skip', 'take', 'unbatch', 'window', 'with_options', 'zip']\")"
      ]
     },
     "execution_count": 18,
     "metadata": {},
     "output_type": "execute_result"
    }
   ],
   "source": [
    "t2 = t.shuffle(100)\n",
    "t2,str(dir(t2))"
   ]
  },
  {
   "cell_type": "code",
   "execution_count": 19,
   "metadata": {
    "ExecuteTime": {
     "end_time": "2019-10-21T07:52:43.478847Z",
     "start_time": "2019-10-21T07:52:43.473829Z"
    }
   },
   "outputs": [
    {
     "data": {
      "text/plain": [
       "(<BatchDataset shapes: ((None, 1), (None, 1)), types: (tf.int32, tf.int32)>,\n",
       " \"['_GeneratorState', '__abstractmethods__', '__class__', '__delattr__', '__dict__', '__dir__', '__doc__', '__eq__', '__format__', '__ge__', '__getattribute__', '__gt__', '__hash__', '__init__', '__init_subclass__', '__iter__', '__le__', '__lt__', '__module__', '__ne__', '__new__', '__reduce__', '__reduce_ex__', '__repr__', '__setattr__', '__sizeof__', '__str__', '__subclasshook__', '__weakref__', '_abc_cache', '_abc_negative_cache', '_abc_negative_cache_version', '_abc_registry', '_add_variable_with_custom_getter', '_apply_options', '_as_serialized_graph', '_batch_size', '_checkpoint_dependencies', '_component_metadata', '_consumers', '_deferred_dependencies', '_drop_remainder', '_flat_shapes', '_flat_structure', '_flat_types', '_from_components', '_functions', '_gather_saveables_for_checkpoint', '_graph', '_graph_attr', '_handle_deferred_dependencies', '_has_captured_ref', '_input_dataset', '_inputs', '_is_graph_tensor', '_list_extra_dependencies_for_serialization', '_list_functions_for_serialization', '_lookup_dependency', '_maybe_initialize_trackable', '_name_based_attribute_restore', '_name_based_restores', '_no_dependency', '_object_identifier', '_preload_simple_restoration', '_restore_from_checkpoint_position', '_self_name_based_restores', '_self_setattr_tracking', '_self_unconditional_checkpoint_dependencies', '_self_unconditional_deferred_dependencies', '_self_unconditional_dependency_names', '_self_update_uid', '_setattr_tracking', '_shape_invariant_to_type_spec', '_single_restoration_from_checkpoint_position', '_structure', '_tf_api_names', '_tf_api_names_v1', '_to_components', '_trace_variant_creation', '_track_trackable', '_tracking_metadata', '_type_spec', '_unconditional_checkpoint_dependencies', '_unconditional_dependency_names', '_update_uid', '_variant_tensor', '_variant_tensor_attr', '_variant_tracker', 'apply', 'batch', 'cache', 'concatenate', 'element_spec', 'enumerate', 'filter', 'flat_map', 'from_generator', 'from_tensor_slices', 'from_tensors', 'interleave', 'list_files', 'map', 'options', 'padded_batch', 'prefetch', 'range', 'reduce', 'repeat', 'shard', 'shuffle', 'skip', 'take', 'unbatch', 'window', 'with_options', 'zip']\")"
      ]
     },
     "execution_count": 19,
     "metadata": {},
     "output_type": "execute_result"
    }
   ],
   "source": [
    "t3 = t2.batch(6)\n",
    "t3,str(dir(t3))"
   ]
  },
  {
   "cell_type": "code",
   "execution_count": 20,
   "metadata": {
    "ExecuteTime": {
     "end_time": "2019-10-21T07:52:45.224894Z",
     "start_time": "2019-10-21T07:52:45.203939Z"
    }
   },
   "outputs": [
    {
     "name": "stdout",
     "output_type": "stream",
     "text": [
      "0  -> :\n",
      " (<tf.Tensor: id=104, shape=(6, 1), dtype=int32, numpy=\n",
      "array([[97],\n",
      "       [69],\n",
      "       [ 1],\n",
      "       [75],\n",
      "       [82],\n",
      "       [92]])>, <tf.Tensor: id=105, shape=(6, 1), dtype=int32, numpy=\n",
      "array([[194],\n",
      "       [138],\n",
      "       [  2],\n",
      "       [150],\n",
      "       [164],\n",
      "       [184]])>)\n",
      "1  -> :\n",
      " (<tf.Tensor: id=106, shape=(6, 1), dtype=int32, numpy=\n",
      "array([[71],\n",
      "       [16],\n",
      "       [81],\n",
      "       [11],\n",
      "       [10],\n",
      "       [31]])>, <tf.Tensor: id=107, shape=(6, 1), dtype=int32, numpy=\n",
      "array([[142],\n",
      "       [ 32],\n",
      "       [162],\n",
      "       [ 22],\n",
      "       [ 20],\n",
      "       [ 62]])>)\n",
      "2  -> :\n",
      " (<tf.Tensor: id=108, shape=(6, 1), dtype=int32, numpy=\n",
      "array([[14],\n",
      "       [95],\n",
      "       [21],\n",
      "       [17],\n",
      "       [76],\n",
      "       [32]])>, <tf.Tensor: id=109, shape=(6, 1), dtype=int32, numpy=\n",
      "array([[ 28],\n",
      "       [190],\n",
      "       [ 42],\n",
      "       [ 34],\n",
      "       [152],\n",
      "       [ 64]])>)\n",
      "3  -> :\n",
      " (<tf.Tensor: id=110, shape=(6, 1), dtype=int32, numpy=\n",
      "array([[39],\n",
      "       [93],\n",
      "       [53],\n",
      "       [46],\n",
      "       [13],\n",
      "       [20]])>, <tf.Tensor: id=111, shape=(6, 1), dtype=int32, numpy=\n",
      "array([[ 78],\n",
      "       [186],\n",
      "       [106],\n",
      "       [ 92],\n",
      "       [ 26],\n",
      "       [ 40]])>)\n",
      "4  -> :\n",
      " (<tf.Tensor: id=112, shape=(6, 1), dtype=int32, numpy=\n",
      "array([[33],\n",
      "       [ 0],\n",
      "       [30],\n",
      "       [91],\n",
      "       [44],\n",
      "       [54]])>, <tf.Tensor: id=113, shape=(6, 1), dtype=int32, numpy=\n",
      "array([[ 66],\n",
      "       [  0],\n",
      "       [ 60],\n",
      "       [182],\n",
      "       [ 88],\n",
      "       [108]])>)\n",
      "5  -> :\n",
      " (<tf.Tensor: id=114, shape=(6, 1), dtype=int32, numpy=\n",
      "array([[70],\n",
      "       [25],\n",
      "       [19],\n",
      "       [ 9],\n",
      "       [60],\n",
      "       [15]])>, <tf.Tensor: id=115, shape=(6, 1), dtype=int32, numpy=\n",
      "array([[140],\n",
      "       [ 50],\n",
      "       [ 38],\n",
      "       [ 18],\n",
      "       [120],\n",
      "       [ 30]])>)\n",
      "6  -> :\n",
      " (<tf.Tensor: id=116, shape=(6, 1), dtype=int32, numpy=\n",
      "array([[38],\n",
      "       [77],\n",
      "       [37],\n",
      "       [29],\n",
      "       [73],\n",
      "       [27]])>, <tf.Tensor: id=117, shape=(6, 1), dtype=int32, numpy=\n",
      "array([[ 76],\n",
      "       [154],\n",
      "       [ 74],\n",
      "       [ 58],\n",
      "       [146],\n",
      "       [ 54]])>)\n",
      "7  -> :\n",
      " (<tf.Tensor: id=118, shape=(6, 1), dtype=int32, numpy=\n",
      "array([[55],\n",
      "       [67],\n",
      "       [64],\n",
      "       [49],\n",
      "       [66],\n",
      "       [41]])>, <tf.Tensor: id=119, shape=(6, 1), dtype=int32, numpy=\n",
      "array([[110],\n",
      "       [134],\n",
      "       [128],\n",
      "       [ 98],\n",
      "       [132],\n",
      "       [ 82]])>)\n",
      "8  -> :\n",
      " (<tf.Tensor: id=120, shape=(6, 1), dtype=int32, numpy=\n",
      "array([[72],\n",
      "       [ 2],\n",
      "       [98],\n",
      "       [94],\n",
      "       [96],\n",
      "       [78]])>, <tf.Tensor: id=121, shape=(6, 1), dtype=int32, numpy=\n",
      "array([[144],\n",
      "       [  4],\n",
      "       [196],\n",
      "       [188],\n",
      "       [192],\n",
      "       [156]])>)\n",
      "9  -> :\n",
      " (<tf.Tensor: id=122, shape=(6, 1), dtype=int32, numpy=\n",
      "array([[26],\n",
      "       [83],\n",
      "       [90],\n",
      "       [80],\n",
      "       [99],\n",
      "       [51]])>, <tf.Tensor: id=123, shape=(6, 1), dtype=int32, numpy=\n",
      "array([[ 52],\n",
      "       [166],\n",
      "       [180],\n",
      "       [160],\n",
      "       [198],\n",
      "       [102]])>)\n",
      "10  -> :\n",
      " (<tf.Tensor: id=124, shape=(6, 1), dtype=int32, numpy=\n",
      "array([[56],\n",
      "       [61],\n",
      "       [62],\n",
      "       [ 8],\n",
      "       [23],\n",
      "       [22]])>, <tf.Tensor: id=125, shape=(6, 1), dtype=int32, numpy=\n",
      "array([[112],\n",
      "       [122],\n",
      "       [124],\n",
      "       [ 16],\n",
      "       [ 46],\n",
      "       [ 44]])>)\n",
      "11  -> :\n",
      " (<tf.Tensor: id=126, shape=(6, 1), dtype=int32, numpy=\n",
      "array([[45],\n",
      "       [48],\n",
      "       [18],\n",
      "       [50],\n",
      "       [84],\n",
      "       [12]])>, <tf.Tensor: id=127, shape=(6, 1), dtype=int32, numpy=\n",
      "array([[ 90],\n",
      "       [ 96],\n",
      "       [ 36],\n",
      "       [100],\n",
      "       [168],\n",
      "       [ 24]])>)\n",
      "12  -> :\n",
      " (<tf.Tensor: id=128, shape=(6, 1), dtype=int32, numpy=\n",
      "array([[85],\n",
      "       [43],\n",
      "       [ 5],\n",
      "       [59],\n",
      "       [68],\n",
      "       [87]])>, <tf.Tensor: id=129, shape=(6, 1), dtype=int32, numpy=\n",
      "array([[170],\n",
      "       [ 86],\n",
      "       [ 10],\n",
      "       [118],\n",
      "       [136],\n",
      "       [174]])>)\n",
      "13  -> :\n",
      " (<tf.Tensor: id=130, shape=(6, 1), dtype=int32, numpy=\n",
      "array([[40],\n",
      "       [89],\n",
      "       [35],\n",
      "       [63],\n",
      "       [58],\n",
      "       [57]])>, <tf.Tensor: id=131, shape=(6, 1), dtype=int32, numpy=\n",
      "array([[ 80],\n",
      "       [178],\n",
      "       [ 70],\n",
      "       [126],\n",
      "       [116],\n",
      "       [114]])>)\n",
      "14  -> :\n",
      " (<tf.Tensor: id=132, shape=(6, 1), dtype=int32, numpy=\n",
      "array([[ 6],\n",
      "       [52],\n",
      "       [28],\n",
      "       [47],\n",
      "       [34],\n",
      "       [86]])>, <tf.Tensor: id=133, shape=(6, 1), dtype=int32, numpy=\n",
      "array([[ 12],\n",
      "       [104],\n",
      "       [ 56],\n",
      "       [ 94],\n",
      "       [ 68],\n",
      "       [172]])>)\n",
      "15  -> :\n",
      " (<tf.Tensor: id=134, shape=(6, 1), dtype=int32, numpy=\n",
      "array([[24],\n",
      "       [65],\n",
      "       [36],\n",
      "       [ 4],\n",
      "       [42],\n",
      "       [79]])>, <tf.Tensor: id=135, shape=(6, 1), dtype=int32, numpy=\n",
      "array([[ 48],\n",
      "       [130],\n",
      "       [ 72],\n",
      "       [  8],\n",
      "       [ 84],\n",
      "       [158]])>)\n",
      "16  -> :\n",
      " (<tf.Tensor: id=136, shape=(4, 1), dtype=int32, numpy=\n",
      "array([[ 7],\n",
      "       [ 3],\n",
      "       [88],\n",
      "       [74]])>, <tf.Tensor: id=137, shape=(4, 1), dtype=int32, numpy=\n",
      "array([[ 14],\n",
      "       [  6],\n",
      "       [176],\n",
      "       [148]])>)\n"
     ]
    }
   ],
   "source": [
    "for i,tensor in enumerate(t3):\n",
    "    print(i,' -> :\\n',tensor)"
   ]
  },
  {
   "cell_type": "code",
   "execution_count": null,
   "metadata": {
    "collapsed": true
   },
   "outputs": [],
   "source": []
  }
 ],
 "metadata": {
  "anaconda-cloud": {},
  "kernelspec": {
   "display_name": "Python 3",
   "language": "python",
   "name": "python3"
  },
  "language_info": {
   "codemirror_mode": {
    "name": "ipython",
    "version": 3
   },
   "file_extension": ".py",
   "mimetype": "text/x-python",
   "name": "python",
   "nbconvert_exporter": "python",
   "pygments_lexer": "ipython3",
   "version": "3.6.2"
  },
  "toc": {
   "base_numbering": 1,
   "nav_menu": {},
   "number_sections": true,
   "sideBar": true,
   "skip_h1_title": false,
   "title_cell": "Table of Contents",
   "title_sidebar": "Contents",
   "toc_cell": false,
   "toc_position": {},
   "toc_section_display": true,
   "toc_window_display": false
  }
 },
 "nbformat": 4,
 "nbformat_minor": 1
}
